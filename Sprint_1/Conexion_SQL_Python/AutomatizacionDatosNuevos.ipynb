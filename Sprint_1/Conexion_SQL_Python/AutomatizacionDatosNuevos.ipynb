{
 "cells": [
  {
   "cell_type": "markdown",
   "metadata": {},
   "source": [
    "### 1. Crear el Script en Python:"
   ]
  },
  {
   "cell_type": "markdown",
   "metadata": {},
   "source": [
    "Abrimos el editor de texto y creamos un nuevo archivo llamado ingest_script.py"
   ]
  },
  {
   "cell_type": "markdown",
   "metadata": {},
   "source": [
    "Realizamos el codigo"
   ]
  },
  {
   "cell_type": "code",
   "execution_count": null,
   "metadata": {},
   "outputs": [],
   "source": [
    "import pandas as pd\n",
    "from sqlalchemy import create_engine\n",
    "import os\n",
    "\n",
    "# Configurar los parámetros de conexión\n",
    "server_name = '186.129.9.177,1433'\n",
    "database_name = 'COMERLOGISTICS'\n",
    "username = 'Carlos'\n",
    "password = 'Dapt01'\n",
    "connection_string = f\"mssql+pyodbc://{username}:{password}@{server_name}/{database_name}?driver=ODBC+Driver+17+for+SQL+Server\"\n",
    "engine = create_engine(connection_string)\n",
    "\n",
    "# Directorio donde se encuentran los archivos CSV\n",
    "data_directory = r'C:\\Users\\Administrator\\Documents\\CF\\CIENCIA DE DATOS IA\\Data Analytics\\Trabajo Final\\DataSet'\n",
    "\n",
    "# Lista de archivos, tablas correspondientes y nombres de columna ID\n",
    "files_and_tables = {\n",
    "    'Tabla_Compras.csv': ('Tabla_Compras', 'CompraID'),\n",
    "    'Tabla_Detallecompras.csv': ('Tabla_DetalleCompras', 'DetalleCompraID'),\n",
    "    'Tabla_InventarioFinal.csv': ('Tabla_InventarioFinal', 'InventarioFinalID'),\n",
    "    'Tabla_InventarioInicial.csv': ('Tabla_InventarioInicial', 'InventarioInicialID'),\n",
    "    'Tabla_Producto.csv': ('Tabla_Producto', 'ProductoID'),\n",
    "    'Tabla_VentasFinal.csv': ('Tabla_VentasFinal', 'VentaID')\n",
    "}\n",
    "\n",
    "# Función para cargar datos de forma incremental\n",
    "def ingest_data():\n",
    "    for file_name, (table_name, id_column) in files_and_tables.items():\n",
    "        file_path = os.path.join(data_directory, file_name)\n",
    "        if os.path.exists(file_path):\n",
    "            # Leer el CSV en un DataFrame\n",
    "            df = pd.read_csv(file_path)\n",
    "\n",
    "            # Leer los datos existentes de la tabla en un DataFrame\n",
    "            query = f\"SELECT {id_column} FROM {table_name}\"\n",
    "            existing_ids = pd.read_sql(query, con=engine)[id_column]\n",
    "\n",
    "            # Filtrar los datos nuevos\n",
    "            new_data = df[~df[id_column].isin(existing_ids)]\n",
    "\n",
    "            # Insertar solo los nuevos datos\n",
    "            if not new_data.empty:\n",
    "                new_data.to_sql(table_name, con=engine, if_exists='append', index=False)\n",
    "                print(f\"{len(new_data)} registros nuevos agregados a {table_name}\")\n",
    "            else:\n",
    "                print(f\"No hay nuevos registros para insertar en {table_name}\")\n",
    "        else:\n",
    "            print(f\"Archivo {file_name} no encontrado.\")\n",
    "\n",
    "# Ejecutar la ingesta de datos\n",
    "ingest_data()\n"
   ]
  },
  {
   "cell_type": "markdown",
   "metadata": {},
   "source": [
    "Guardamos el archivo como ingest_script.py en una ubicación accesible. C:\\Users\\Administrator\\Documents\\CF\\CIENCIA DE DATOS IA\\Data Analytics\\Trabajo Final\\Scripts."
   ]
  },
  {
   "cell_type": "markdown",
   "metadata": {},
   "source": [
    "### 2. Creamos un Archivo .bat para Ejecutar el Script"
   ]
  },
  {
   "cell_type": "code",
   "execution_count": null,
   "metadata": {},
   "outputs": [],
   "source": [
    "@echo off\n",
    "cd C:\\Users\\Administrator\\Documents\\CF\\CIENCIA DE DATOS IA\\Data Analytics\\Trabajo Final\\Scripts\n",
    "python ingest_script.py\n"
   ]
  },
  {
   "cell_type": "markdown",
   "metadata": {},
   "source": [
    "Guardamos el archivo como run_ingest_script.bat en la misma carpeta donde tenemos el script de Python"
   ]
  },
  {
   "cell_type": "markdown",
   "metadata": {},
   "source": [
    "3. Configurar la Tarea Programada en Windows\n",
    "Abrimos el Task Scheduler:\n",
    "\n",
    "Presiona Win + R, escribimos taskschd.msc y presionamos Enter.\n",
    "Esto abrirá el Task Scheduler.\n",
    "\n",
    "Creamos una Nueva Tarea:\n",
    "\n",
    "En el panel derecho, seleccionamos Create Basic Task....\n",
    "Damos un nombre a la tarea, \"Automatización de Ingesta de Datos Incremental\", y hacemos clic en Next.\n",
    "\n",
    "Configuramos el Trigger:\n",
    "\n",
    "En la pantalla Trigger, seleccionamos Weekly y hacemos clic en Next.\n",
    "Seleccionamos el día Sunday y establece la hora en 2:00 AM. (Para que se realice todas las semanas el domingo a las 2:00 AM.)\n",
    "Nos aseguramos de que la tarea esté configurada para repetirse cada 1 semana.\n",
    "Hacemos clic en Next.\n",
    "\n",
    "Configurar la Acción:\n",
    "\n",
    "En la pantalla Action, seleccionamos Start a program y hacemos clic en Next.\n",
    "Hacemos clic en Browse... y seleccionamos el archivo .bat que creamos en el Paso 2.\n",
    "Hacemos clic en Next.\n",
    "\n",
    "Finalizar la Tarea:\n",
    "\n",
    "Revisamos la configuración de la tarea y hacemos clic en Finish para crearla."
   ]
  },
  {
   "cell_type": "markdown",
   "metadata": {},
   "source": [
    "4. Validación y Monitorización\n",
    "Probamos la Tarea Manualmente:\n",
    "\n",
    "En el Task Scheduler, seleccionamos la tarea que acabamos de crear y hacemos clic en Run para probarla manualmente.\n",
    "Verificamos que los datos se ingesten correctamente en la base de datos SQL Server.\n",
    "\n",
    "Revisar los Resultados:\n",
    "\n",
    "Verificamos los registros de la base de datos para asegurarnos de que los datos se cargaron correctamente y que no se duplicaron.\n",
    "\n",
    "Habilitar Logging (Opcional):\n",
    "\n",
    "Si se desea registrar las ejecuciones de la tarea, se puede agregar funciones de logging en el script de Python para guardar los resultados en un archivo de texto."
   ]
  }
 ],
 "metadata": {
  "language_info": {
   "name": "python"
  }
 },
 "nbformat": 4,
 "nbformat_minor": 2
}
